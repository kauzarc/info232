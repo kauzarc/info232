{
 "cells": [
  {
   "cell_type": "markdown",
   "metadata": {},
   "source": [
    "<div>\n",
    "<img src=\"logo.png\", width=150, ALIGN=\"left\">\n",
    "<center>\n",
    "<h1>Mini Projets 2019-2020 (Info 232)</h1>\n",
    "Isabelle Guyon <br>\n",
    "info232@chalearn.org <br>\n",
    "</center>\n",
    "<span style=\"color:red\"> <h1> 0 . Intro&Tools </h1> </span>\n",
    "    \n",
    "<p> Learn about the tools we will be using in this class: Python (<a href=\"https://www.anaconda.com/distribution/?gclid=CjwKCAiApOvwBRBUEiwAcZGdGJfRGe75diel7fHcnmosDCyneXkUuFd3CEP4HBTlAl4m30afyOJW1RoC6DEQAvD_BwE\">Anaconda distribution for Python 3.7</a>), <a href=\"https://www.spyder-ide.org/\">the Spyder editor</a> coming with Anaconda and <a href=\"https://jupyter-notebook.readthedocs.io/en/stable/\">Jupyter notebooks</a> allowing you to easily develop Python code. Get quickly aquainted with three Python libraries we will be using all the time: <a href=\"https://numpy.org/\">Numpy</a>, <a href=\"https://pandas.pydata.org/\">Pandas</a>, and <a href=\"https://scikit-learn.org/stable/\">Scikit-learn</a> (also called sklearn). Learn about Git and <a href=\"https://github.com/\">Github</a> to work collaboratively with your team and keep your code under revision control. Learn to submit your homework with <a href=\"https://chagrade.lri.fr/\">ChaGrade</a> and check out your challenge on <a href=\"https://codalab.lri.fr/my/\">Codalab</a>.\n",
    "   \n",
    "</div>"
   ]
  },
  {
   "cell_type": "markdown",
   "metadata": {},
   "source": [
    "<div style=\"background:#FFFFAA\">\n",
    "    <h2>Instructions </h2>\n",
    "    <p>\n",
    "<span style=\"color:blue\">        TP means \"Travaux Pratiques\" i.e. exercise. Each week you will start your TP in class, then finish it at home, if necessary, and submit it AT THE LATEST on <b>Saturday</b> (strict deadline). The teaching assistants will give you a <b>provisional grade</b> that you can still <b>improve IF you show up at the Python support class on Wednesday</b>.</span>\n",
    "<p> \n",
    "        This TP gives you 5 points if you answer well at least 5 questions. However we encourage you answer all questions: they are meant to give you ideas you can use later in your projects.<br>\n",
    "    <ul>\n",
    "        <li> To create a new cell, go to the menu \"Insert\".</li>\n",
    "        <li> To transform a cell to a \"comment\", go to Cell + Cell Type + Markdown. </li>\n",
    "        <li> To execute a cell: SHIFT+RETURN </li>\n",
    "        <li> <b> The cells must be executed in order.</b> </li>\n",
    "    </ul>\n",
    "    </p>     \n",
    "<span style=\"color:red\"> <b>Save your notebook often with menu File + Save and Checkpoint.</b>\n",
    "<br> <b>Before you push your homework to your GitHub repo, use  Kernel + Restart and Run all.</b>\n",
    "</span>\n",
    "</div>"
   ]
  },
  {
   "cell_type": "markdown",
   "metadata": {},
   "source": [
    "# Question 0: \"Markdown\" cells\n",
    "\n",
    "Markdown cells are very handy to insert text or images in your code.\n",
    "<br>Create a <b>new cell</b> of type Markdown below this one.\n",
    "Copy the paragraph on cross-validation that you will find in Wikipedia. Try to color the cell in GREEN! \n",
    "<br> Tip: get inspired by the code of the cell above this one by double-clicking on it. \n",
    "<br> "
   ]
  },
  {
   "cell_type": "markdown",
   "metadata": {},
   "source": [
    "<div style=\"background:#00FF00\">\n",
    "Cross-validation, sometimes called rotation estimation[1][2][3] or out-of-sample testing, is any of various similar model validation techniques for assessing how the results of a statistical analysis will generalize to an independent data set. It is mainly used in settings where the goal is prediction, and one wants to estimate how accurately a predictive model will perform in practice. In a prediction problem, a model is usually given a dataset of known data on which training is run (training dataset), and a dataset of unknown data (or first seen data) against which the model is tested (called the validation dataset or testing set).[4][5] The goal of cross-validation is to test the model's ability to predict new data that was not used in estimating it, in order to flag problems like overfitting or selection bias[6] and to give an insight on how the model will generalize to an independent dataset (i.e., an unknown dataset, for instance from a real problem).\n",
    "\n",
    "One round of cross-validation involves partitioning a sample of data into complementary subsets, performing the analysis on one subset (called the training set), and validating the analysis on the other subset (called the validation set or testing set). To reduce variability, in most methods multiple rounds of cross-validation are performed using different partitions, and the validation results are combined (e.g. averaged) over the rounds to give an estimate of the model's predictive performance.\n",
    "\n",
    "In summary, cross-validation combines (averages) measures of fitness in prediction to derive a more accurate estimate of model prediction performance.[7]\n",
    "</div>"
   ]
  },
  {
   "cell_type": "markdown",
   "metadata": {},
   "source": [
    "# Question 1: \"Code\" cells\n",
    "\n",
    "Execute the cell below after replacing the answer by 1."
   ]
  },
  {
   "cell_type": "code",
   "execution_count": 1,
   "metadata": {},
   "outputs": [
    {
     "data": {
      "text/html": [
       "<div style=\"background:#00FF00\">CORRECT<br>:-)</div>"
      ],
      "text/plain": [
       "<IPython.core.display.HTML object>"
      ]
     },
     "metadata": {},
     "output_type": "display_data"
    }
   ],
   "source": [
    "### Block of code needed to run the rest of the notebook smoothly:\n",
    "# Make is possible to include graphics in notebook\n",
    "%matplotlib inline\n",
    "# Reload py files after edits were made automatically\n",
    "%load_ext autoreload\n",
    "%autoreload 2\n",
    "\n",
    "### Add path to the sample code so the notebook finds it:\n",
    "code_dir = 'code/'                        \n",
    "from sys import path; path.append(code_dir)\n",
    "\n",
    "# Import code that checks your answers\n",
    "from checker import check \n",
    "# Disable some warnings\n",
    "import warnings\n",
    "warnings.simplefilter(action='ignore', category=FutureWarning) \n",
    "\n",
    "### Now your question:\n",
    "question = 1\n",
    "answer = 1  # Replace by 1\n",
    "score = 0\n",
    "score += check(answer, question)"
   ]
  },
  {
   "cell_type": "markdown",
   "metadata": {},
   "source": [
    "# Question 2: Data files\n",
    "\n",
    "In your projects, you will have to analyze data in <a href=\"https://github.com/codalab/chalab/wiki/Help:-Wizard-%E2%80%90-Challenge-%E2%80%90-Data\">AutoML format</a>. The data are usually split into a <b>training set</b> to develop your models (called \"train\") and <b>two test sets</b> (a validation set called \"valid\" used for testing your models during the \"development phase\" and a true \"test\" set for the final evaluation of your greatest model when the project is over). This way the \"test\" set is not compromised by having been used to select your best model.\n",
    "\n",
    "Using any means available to you, inspect the \"iris\" files found in the directory \"info232/TP0/data/\" and fill out the answers.\n",
    "<br> Idea 1: inspect the files with an editor. \n",
    "<br> Idea 2: remplace the <a href=\"http://cheatsheetworld.com/programming/unix-linux-cheat-sheet/\"> Unix command</a> \"ls\" by another one like \"wc\". "
   ]
  },
  {
   "cell_type": "code",
   "execution_count": 2,
   "metadata": {},
   "outputs": [
    {
     "name": "stdout",
     "output_type": "stream",
     "text": [
      "data/iris_feat.name\tdata/iris_test.data\t  data/iris_valid.data\r\n",
      "data/iris_label.name\tdata/iris_test.solution   data/iris_valid.solution\r\n",
      "data/iris_private.info\tdata/iris_train.data\r\n",
      "data/iris_public.info\tdata/iris_train.solution\r\n"
     ]
    }
   ],
   "source": [
    "data_dir = 'data'             \n",
    "data_name = 'iris'\n",
    "# The character ! lets you \"escape\" to the Unix shell\n",
    "!ls $data_dir/*  "
   ]
  },
  {
   "cell_type": "code",
   "execution_count": 3,
   "metadata": {},
   "outputs": [
    {
     "data": {
      "text/html": [
       "<div style=\"background:#FF0000\">BOOOOH<br>:-(</div>"
      ],
      "text/plain": [
       "<IPython.core.display.HTML object>"
      ]
     },
     "metadata": {},
     "output_type": "display_data"
    }
   ],
   "source": [
    "feature_number = 3            # put correct value\n",
    "training_sample_number = 21   # put correct value\n",
    "validation_sample_number = 50 # put correct value\n",
    "test_sample_number = 18       # put correct value\n",
    "question = 2\n",
    "answer = feature_number*(training_sample_number+validation_sample_number+test_sample_number)\n",
    "score += check(answer, question)"
   ]
  },
  {
   "cell_type": "markdown",
   "metadata": {},
   "source": [
    "# Question 3: Code files\n",
    "In your project, you will be provided with some sample code to help you get started. \n",
    "<br>\n",
    "Using <a href=\"https://www.spyder-ide.org/\">the Spyder editor</a>, inspect the code in the \"code/\" directory. To do so, open a command window and navigate to the directory \"info232/TP0/code/\" the, at the prompt, run the command:\n",
    "```\n",
    "spyder data_io.py &\n",
    "```\n",
    "then replace the variable values in the cell below by meaningful answers."
   ]
  },
  {
   "cell_type": "code",
   "execution_count": 4,
   "metadata": {},
   "outputs": [],
   "source": [
    "import_numpy_as = \"hello\"\n",
    "import_pandas_as = \"world\"\n",
    "name_of_first_argument_of_read_as_df = \"zarbi\"\n",
    "default_value_of_second_argument_of_read_as_df=\"test\""
   ]
  },
  {
   "cell_type": "code",
   "execution_count": 5,
   "metadata": {},
   "outputs": [
    {
     "data": {
      "text/html": [
       "<div style=\"background:#FF0000\">BOOOOH<br>:-(</div>"
      ],
      "text/plain": [
       "<IPython.core.display.HTML object>"
      ]
     },
     "metadata": {},
     "output_type": "display_data"
    }
   ],
   "source": [
    "mystring = import_numpy_as+import_pandas_as+name_of_first_argument_of_read_as_df+default_value_of_second_argument_of_read_as_df\n",
    "question = 3\n",
    "answer = int.from_bytes(mystring.encode('utf-8'), \"little\")\n",
    "score += check(answer, question)"
   ]
  },
  {
   "cell_type": "markdown",
   "metadata": {},
   "source": [
    "# Question 4: Pandas\n",
    "\n",
    "This time we are going to do simple \"exploratory data analysis\". To simplify, we lump all the \"iris\" data together in one big data structure called a \"pandas\" data frame (disregarding the train/valid/test split). This will allow us to use the rich libraries \"pandas\", \"numpy\", \"seaborn\", \"scikit-learn\", and others to explore the data. \n",
    "\n",
    "In the next cell, replace the \"head\" function, which just shows the first few rows of the dataset, by a pandas function providing <b>descriptive statistics</b>. To that end, you may want to check the <a href=\"https://pandas.pydata.org/pandas-docs/stable/reference/frame.html\">Pandas DataFrame reference page</a>. Then, in the following cell, replace the variables with their correct values and execute it."
   ]
  },
  {
   "cell_type": "code",
   "execution_count": 6,
   "metadata": {},
   "outputs": [
    {
     "name": "stdout",
     "output_type": "stream",
     "text": [
      "Reading data/iris_train from AutoML format\n",
      "Number of examples = 35\n",
      "Number of features = 4\n",
      "        Class\n",
      "0      setosa\n",
      "1  versicolor\n",
      "2   virginica\n",
      "Number of classes = 3\n"
     ]
    },
    {
     "data": {
      "text/html": [
       "<div>\n",
       "<style scoped>\n",
       "    .dataframe tbody tr th:only-of-type {\n",
       "        vertical-align: middle;\n",
       "    }\n",
       "\n",
       "    .dataframe tbody tr th {\n",
       "        vertical-align: top;\n",
       "    }\n",
       "\n",
       "    .dataframe thead th {\n",
       "        text-align: right;\n",
       "    }\n",
       "</style>\n",
       "<table border=\"1\" class=\"dataframe\">\n",
       "  <thead>\n",
       "    <tr style=\"text-align: right;\">\n",
       "      <th></th>\n",
       "      <th>sepal_length</th>\n",
       "      <th>sepal_width</th>\n",
       "      <th>petal_length</th>\n",
       "      <th>petal_width</th>\n",
       "      <th>target</th>\n",
       "    </tr>\n",
       "  </thead>\n",
       "  <tbody>\n",
       "    <tr>\n",
       "      <td>0</td>\n",
       "      <td>4.4</td>\n",
       "      <td>3.0</td>\n",
       "      <td>1.3</td>\n",
       "      <td>0.2</td>\n",
       "      <td>setosa</td>\n",
       "    </tr>\n",
       "    <tr>\n",
       "      <td>1</td>\n",
       "      <td>4.7</td>\n",
       "      <td>3.2</td>\n",
       "      <td>1.6</td>\n",
       "      <td>0.2</td>\n",
       "      <td>setosa</td>\n",
       "    </tr>\n",
       "    <tr>\n",
       "      <td>2</td>\n",
       "      <td>6.1</td>\n",
       "      <td>2.6</td>\n",
       "      <td>5.6</td>\n",
       "      <td>1.4</td>\n",
       "      <td>virginica</td>\n",
       "    </tr>\n",
       "    <tr>\n",
       "      <td>3</td>\n",
       "      <td>6.4</td>\n",
       "      <td>3.1</td>\n",
       "      <td>5.5</td>\n",
       "      <td>1.8</td>\n",
       "      <td>virginica</td>\n",
       "    </tr>\n",
       "    <tr>\n",
       "      <td>4</td>\n",
       "      <td>5.8</td>\n",
       "      <td>4.0</td>\n",
       "      <td>1.2</td>\n",
       "      <td>0.2</td>\n",
       "      <td>setosa</td>\n",
       "    </tr>\n",
       "  </tbody>\n",
       "</table>\n",
       "</div>"
      ],
      "text/plain": [
       "   sepal_length  sepal_width  petal_length  petal_width     target\n",
       "0           4.4          3.0           1.3          0.2     setosa\n",
       "1           4.7          3.2           1.6          0.2     setosa\n",
       "2           6.1          2.6           5.6          1.4  virginica\n",
       "3           6.4          3.1           5.5          1.8  virginica\n",
       "4           5.8          4.0           1.2          0.2     setosa"
      ]
     },
     "execution_count": 6,
     "metadata": {},
     "output_type": "execute_result"
    }
   ],
   "source": [
    "from data_io import read_as_df\n",
    "# With \"read_as_df\" the data are loaded as a Pandas Data Frame\n",
    "data = read_as_df(data_dir  + '/' + data_name)  \n",
    "data.head()"
   ]
  },
  {
   "cell_type": "markdown",
   "metadata": {},
   "source": [
    "There are 3 categories of flowers called \"iris\": \"setosa\", \"virginica\", and \"versicolor\". The categories are called \"target\" or \"label\": this is what we want to predict. These flowers can be characterized by the length and width of their sepals and petals. These features allows algorithms to classify correctly the flowers in their three categories. This is <a href=\"https://en.wikipedia.org/wiki/Iris_flower_data_set\">a very famous problem introduced by Fisher</a> to illustrate the method of linear discriminant analysis."
   ]
  },
  {
   "cell_type": "code",
   "execution_count": 7,
   "metadata": {},
   "outputs": [
    {
     "data": {
      "text/html": [
       "<div style=\"background:#FF0000\">BOOOOH<br>:-(</div>"
      ],
      "text/plain": [
       "<IPython.core.display.HTML object>"
      ]
     },
     "metadata": {},
     "output_type": "display_data"
    }
   ],
   "source": [
    "std_sepal_length = 0.1323  # Standard deviation of the sepal length, put correct value\n",
    "mean_sepal_width = 3.4454   # Mean of the sepal width, put correct value\n",
    "min_petal_length = 8.5  # Minimum value of the petal length, put correct value\n",
    "max_petal_width = 12    # Maximum value of the petal width, put correct value\n",
    "\n",
    "question = 4\n",
    "reponse = std_sepal_length+mean_sepal_width+min_petal_length+max_petal_width\n",
    "score += check(reponse, question)"
   ]
  },
  {
   "cell_type": "markdown",
   "metadata": {},
   "source": [
    "# Question 5: Numpy\n",
    "Pandas dataframes are very nice to explore tabular data, but sometimes, we need to perform matrix algebra and for that purpose the <a href=\"https://numpy.org/\">Numpy</a> library is often more convenient. Fortunately, it is easy to convert Pandas data structure to Numpy data structures and back.\n",
    "<br> In the cell below:\n",
    "<ul>\n",
    "    <li> Cast the data frame \"data\" into a numpy array and call it A.</li>\n",
    "    <li> Create another numpy array called B containing A without its last column (which contains non numeric values).</li>\n",
    "    <li> Create another numpy array called C containing all the values of B raised to the power 2.</li>\n",
    "</ul>   "
   ]
  },
  {
   "cell_type": "code",
   "execution_count": 8,
   "metadata": {},
   "outputs": [],
   "source": [
    "import numpy as np\n",
    "A = [] # Numpy array with the values of \"data\"\n",
    "B = [] # A without the last column\n",
    "C = [] # B raised to the power 2"
   ]
  },
  {
   "cell_type": "code",
   "execution_count": 9,
   "metadata": {},
   "outputs": [
    {
     "data": {
      "text/html": [
       "<div style=\"background:#FF0000\">BOOOOH<br>:-(</div>"
      ],
      "text/plain": [
       "<IPython.core.display.HTML object>"
      ]
     },
     "metadata": {},
     "output_type": "display_data"
    }
   ],
   "source": [
    "question = 5\n",
    "answer = np.sum(C)\n",
    "score += check(answer, question)"
   ]
  },
  {
   "cell_type": "markdown",
   "metadata": {},
   "source": [
    "# Question 6: Histograms\n",
    "\n",
    "Pandas provides you with many nice functions to explore data. Here we show you how to make histograms. The height of each bar represents the number of samples (iris flowers) in a given interval of petal (or sepal) width or length, called \"bin\". Remplace the number of bins by a smaller number (like 10) and observe the change of the bar heights. Change the variable answer to: answer=1 if the bar height increases and answer=0 otherwise. Do you understand why?"
   ]
  },
  {
   "cell_type": "code",
   "execution_count": 10,
   "metadata": {},
   "outputs": [
    {
     "data": {
      "image/png": "[encoded data removed]",
      "text/plain": [
       "<Figure size 720x720 with 6 Axes>"
      ]
     },
     "metadata": {
      "needs_background": "light"
     },
     "output_type": "display_data"
    }
   ],
   "source": [
    "data.hist(figsize=(10, 10), bins=50, layout=(3, 2));"
   ]
  },
  {
   "cell_type": "code",
   "execution_count": 11,
   "metadata": {},
   "outputs": [
    {
     "data": {
      "text/html": [
       "<div style=\"background:#FF0000\">BOOOOH<br>:-(</div>"
      ],
      "text/plain": [
       "<IPython.core.display.HTML object>"
      ]
     },
     "metadata": {},
     "output_type": "display_data"
    }
   ],
   "source": [
    "question = 6\n",
    "answer = -1           # 1 if the maximum bar height increases when the bin number decreases, 0 otherwise\n",
    "score += check(answer, question)"
   ]
  },
  {
   "cell_type": "markdown",
   "metadata": {},
   "source": [
    "# Question 7: Box plots\n",
    "The <a href=\"https://pandas.pydata.org/pandas-docs/stable/reference/frame.html\">Pandas DataFrame reference page</a> provides a lot of other plotting functions you may want to try. Another way of representing the density of samples for the various variables is to use <a href=\"https://en.wikipedia.org/wiki/Box_plot\">box plots</a>. Statisticians like those. The middle (green) bar represents the median of the distribution (half of the samples are above and below the median) and the span of the boxes represent the quartiles (half of the samples are within the box). The definition of the \"whiskers\" and the \"outliers\" may vary.\n",
    "<p> If we number the variables 0: sepal_length, 1: sepal_width, 2: petal_length, 3: petal_width, indicate which variable has the largest median and which one the largest quartiles."
   ]
  },
  {
   "cell_type": "code",
   "execution_count": 12,
   "metadata": {},
   "outputs": [
    {
     "data": {
      "text/plain": [
       "<matplotlib.axes._subplots.AxesSubplot at 0x7f92a76b40d0>"
      ]
     },
     "execution_count": 12,
     "metadata": {},
     "output_type": "execute_result"
    },
    {
     "data": {
      "image/png": "[encoded data removed]",
      "text/plain": [
       "<Figure size 432x288 with 1 Axes>"
      ]
     },
     "metadata": {
      "needs_background": "light"
     },
     "output_type": "display_data"
    }
   ],
   "source": [
    "data.boxplot()"
   ]
  },
  {
   "cell_type": "code",
   "execution_count": 13,
   "metadata": {},
   "outputs": [
    {
     "data": {
      "text/html": [
       "<div style=\"background:#FF0000\">BOOOOH<br>:-(</div>"
      ],
      "text/plain": [
       "<IPython.core.display.HTML object>"
      ]
     },
     "metadata": {},
     "output_type": "display_data"
    }
   ],
   "source": [
    "question = 7\n",
    "largest_median = -1 # Variable number between 0 and 3 with largest median value\n",
    "largest_quartiles = -1 # Variable number between 0 and 3 with largest quartiles\n",
    "answer = largest_median+largest_quartiles**2    \n",
    "score += check(answer, question)"
   ]
  },
  {
   "cell_type": "markdown",
   "metadata": {},
   "source": [
    "# Question 8: Pair plots\n",
    "\n",
    "Seaborn (sns) is a package of data visualization functions: https://seaborn.pydata.org/. Quite useful! It is convenient to visualize data in 2 dimensions. One way of doing that is to plot a variable (feature) against another one, one point representing a sample (a flower). The pairplot function shows all the possibilities (off-diagonal graphs). \n",
    "\n",
    "On the diagonal, what do you see? Compare with the histograms of the previous question (for 10 bins they should be identical).\n",
    "Then add another argument to the pairplot function \n",
    "        \n",
    "        hue=\"target\" \n",
    "        \n",
    "(if you do not understand, <a href =\"https://seaborn.pydata.org/generated/seaborn.pairplot.html\">consult the DOCUMENTATION</a>). After executing the next cell again, in the following cell, answer the questions: \n",
    "\n",
    "What is the color of the iris category, which is best separated from all others?\n",
    "\n",
    "        color_best_separated = 1 if blue; 2 if orange; 3 if green.\n",
    "\n",
    "Which iris category does this correspond to?\n",
    "\n",
    "        iris_best_separated = 1 if virginica; 2 if versocolor; 3 if setosa."
   ]
  },
  {
   "cell_type": "code",
   "execution_count": 14,
   "metadata": {},
   "outputs": [
    {
     "data": {
      "text/plain": [
       "<seaborn.axisgrid.PairGrid at 0x7f92a7fc94d0>"
      ]
     },
     "execution_count": 14,
     "metadata": {},
     "output_type": "execute_result"
    },
    {
     "data": {
      "image/png": "[encoded data removed]",
      "text/plain": [
       "<Figure size 720x720 with 20 Axes>"
      ]
     },
     "metadata": {},
     "output_type": "display_data"
    }
   ],
   "source": [
    "import seaborn as sns; sns.set()\n",
    "sns.pairplot(data, diag_kind=\"hist\")"
   ]
  },
  {
   "cell_type": "code",
   "execution_count": 15,
   "metadata": {},
   "outputs": [
    {
     "data": {
      "text/html": [
       "<div style=\"background:#FF0000\">BOOOOH<br>:-(</div>"
      ],
      "text/plain": [
       "<IPython.core.display.HTML object>"
      ]
     },
     "metadata": {},
     "output_type": "display_data"
    }
   ],
   "source": [
    "question = 8\n",
    "color_best_separated = 8 # Change that\n",
    "iris_best_separated = 5  # Change that\n",
    "score += check(color_best_separated*iris_best_separated, question)"
   ]
  },
  {
   "cell_type": "markdown",
   "metadata": {},
   "source": [
    "# Question 9: Feature correlation\n",
    "The variables (features) can be redundant (capture similar information). The Pearson correlation coefficient (see <a href =\"https://en.wikipedia.org/wiki/Pearson_correlation_coefficient\"> Wikipedia page</a>) allows you to measure correlation (linear dependency). On a \"pair plot\", if variables are very correlated, the points are almost aligned.\n",
    "\n",
    "Looking at the \"pair plots\" above, which pair of variables looks most correlated? "
   ]
  },
  {
   "cell_type": "code",
   "execution_count": 16,
   "metadata": {},
   "outputs": [
    {
     "data": {
      "text/html": [
       "<div style=\"background:#FF0000\">BOOOOH<br>:-(</div>"
      ],
      "text/plain": [
       "<IPython.core.display.HTML object>"
      ]
     },
     "metadata": {},
     "output_type": "display_data"
    }
   ],
   "source": [
    "question = 9\n",
    "# Row and column indices of the most correlated variables:\n",
    "line_number = 0              # Lines numbered de 0 to 3, remplace by the correct answer\n",
    "column_number = 0            # Columns numbered de 0 to 3, remplace by the correct answer\n",
    "score += check(line_number*column_number, question)"
   ]
  },
  {
   "cell_type": "markdown",
   "metadata": {},
   "source": [
    "If you cannot get this right looking at the pair plots, check the correlation matrix below. Also, change the method 'pearson' to other <a href=\"https://pandas.pydata.org/pandas-docs/stable/reference/api/pandas.DataFrame.corr.html\">coefficients de correlation</a>). Does this change the ranking of pairs of variables from most to least correlated? Check the definitions of <a href =\"Kandall tau\">https://en.wikipedia.org/wiki/Kendall_rank_correlation_coefficient</a> and <a href=\"https://en.wikipedia.org/wiki/Spearman%27s_rank_correlation_coefficient\">Spearman correlation coefficient</a>. Try to understand the difference between <a href=\"https://en.wikipedia.org/wiki/Correlation_and_dependence\">correlation and dependence</a>."
   ]
  },
  {
   "cell_type": "code",
   "execution_count": 17,
   "metadata": {
    "scrolled": true
   },
   "outputs": [
    {
     "data": {
      "text/plain": [
       "<matplotlib.axes._subplots.AxesSubplot at 0x7f92a3494950>"
      ]
     },
     "execution_count": 17,
     "metadata": {},
     "output_type": "execute_result"
    },
    {
     "data": {
      "image/png": "[encoded data removed]",
      "text/plain": [
       "<Figure size 432x288 with 2 Axes>"
      ]
     },
     "metadata": {},
     "output_type": "display_data"
    }
   ],
   "source": [
    "corr_mat = data.corr(method='pearson')\n",
    "sns.heatmap(corr_mat, annot=True, center=0)"
   ]
  },
  {
   "cell_type": "markdown",
   "metadata": {},
   "source": [
    "Notice that variables can be correlated or anti-correlated. Thus maybe you want to rather use the absolute value of correlation to measure dependence. Does this change your answers?"
   ]
  },
  {
   "cell_type": "code",
   "execution_count": 18,
   "metadata": {},
   "outputs": [
    {
     "data": {
      "text/plain": [
       "<matplotlib.axes._subplots.AxesSubplot at 0x7f9297586210>"
      ]
     },
     "execution_count": 18,
     "metadata": {},
     "output_type": "execute_result"
    },
    {
     "data": {
      "image/png": "[encoded data removed]",
      "text/plain": [
       "<Figure size 432x288 with 2 Axes>"
      ]
     },
     "metadata": {},
     "output_type": "display_data"
    }
   ],
   "source": [
    "sns.heatmap(abs(corr_mat), annot=True)"
   ]
  },
  {
   "cell_type": "markdown",
   "metadata": {},
   "source": [
    "Note that the matrix is symmetric and has ones on the diagonal.  To show only the values above the diagonal, see <a href=\"https://seaborn.pydata.org/generated/seaborn.heatmap.html\">the bottom of this post</a>."
   ]
  },
  {
   "cell_type": "markdown",
   "metadata": {},
   "source": [
    "# Question 10: Feature selection\n",
    "Representing a matrix of coefficients with colors seems to be pretty convenient for visualization purposes. We would like to do that also for the data matrix itself. Note that, since the last column (target) contains strings (\"categorical variables\"), we first need to convert them to numbers. \n",
    "\n",
    "Observing the heatmap, which column is most correlated with the target? Insert another cell in which you plot the correlation matrix of data_new (inspiring yourself from the previous question), then confirm your intuition and anwer the question."
   ]
  },
  {
   "cell_type": "code",
   "execution_count": 19,
   "metadata": {},
   "outputs": [
    {
     "name": "stdout",
     "output_type": "stream",
     "text": [
      "   sepal_length  sepal_width  petal_length  petal_width     target\n",
      "0           4.4          3.0           1.3          0.2     setosa\n",
      "1           4.7          3.2           1.6          0.2     setosa\n",
      "2           6.1          2.6           5.6          1.4  virginica\n",
      "3           6.4          3.1           5.5          1.8  virginica\n",
      "4           5.8          4.0           1.2          0.2     setosa\n",
      "   sepal_length  sepal_width  petal_length  petal_width  target\n",
      "0           4.4          3.0           1.3          0.2       0\n",
      "1           4.7          3.2           1.6          0.2       0\n",
      "2           6.1          2.6           5.6          1.4       2\n",
      "3           6.4          3.1           5.5          1.8       2\n",
      "4           5.8          4.0           1.2          0.2       0\n"
     ]
    },
    {
     "data": {
      "text/plain": [
       "<matplotlib.axes._subplots.AxesSubplot at 0x7f92974d0250>"
      ]
     },
     "execution_count": 19,
     "metadata": {},
     "output_type": "execute_result"
    },
    {
     "data": {
      "image/png": "[encoded data removed]",
      "text/plain": [
       "<Figure size 432x288 with 2 Axes>"
      ]
     },
     "metadata": {},
     "output_type": "display_data"
    }
   ],
   "source": [
    "print(data.head())\n",
    "data_num = data.copy()  # If you don't use \"copy\", any change in data_num will also result in a change in data\n",
    "data_num['target']= data_num['target'].astype('category')\n",
    "data_num['target'] = data_num['target'].cat.codes\n",
    "print(data_num.head())\n",
    "sns.heatmap(data_num)"
   ]
  },
  {
   "cell_type": "code",
   "execution_count": 20,
   "metadata": {},
   "outputs": [],
   "source": [
    "# Put here your code showing the correlation matrix of data_num"
   ]
  },
  {
   "cell_type": "markdown",
   "metadata": {},
   "source": [
    "## Question 10 is here:\n",
    "What is the variable (feature) most correlated with the column \"target\"? What is the corresponding value of the Pearson correlation coefficient?"
   ]
  },
  {
   "cell_type": "code",
   "execution_count": 21,
   "metadata": {},
   "outputs": [
    {
     "data": {
      "text/html": [
       "<div style=\"background:#FF0000\">BOOOOH<br>:-(</div>"
      ],
      "text/plain": [
       "<IPython.core.display.HTML object>"
      ]
     },
     "metadata": {},
     "output_type": "display_data"
    }
   ],
   "source": [
    "question = 10\n",
    "numero_variable = 0            # Variables numbered 0 to 3, replace with the correct answer\n",
    "pearson_correlation = -1       # Replace with the correct answer\n",
    "score += check(numero_variable+pearson_correlation, question)"
   ]
  },
  {
   "cell_type": "code",
   "execution_count": 22,
   "metadata": {},
   "outputs": [
    {
     "name": "stdout",
     "output_type": "stream",
     "text": [
      "Your final score is 1 / 10, congratulations!\n"
     ]
    }
   ],
   "source": [
    "print('Your final score is %d / 10, congratulations!' % score)"
   ]
  },
  {
   "cell_type": "markdown",
   "metadata": {},
   "source": [
    "<div style=\"background:#FFFFAA\">\n",
    "<span style=\"color:red\">\n",
    "<br>\n",
    "    To finalize your homework:\n",
    "<b>\n",
    "<ul>\n",
    "    <li> Use  Kernel + Restart and Run all.</li>\n",
    "    <li> Save your notebook.</li>\n",
    "    <li> Push your changes to your GitHub repo with:</li>\n",
    "</ul>   \n",
    "</b>\n",
    "<pre>\n",
    "git add .\n",
    "git commit -m 'my homework is done'\n",
    "git push\n",
    "</pre>\n",
    "<br>\n",
    "</span>\n",
    "</div>"
   ]
  }
 ],
 "metadata": {
  "kernelspec": {
   "display_name": "Python 3",
   "language": "python",
   "name": "python3"
  },
  "language_info": {
   "codemirror_mode": {
    "name": "ipython",
    "version": 3
   },
   "file_extension": ".py",
   "mimetype": "text/x-python",
   "name": "python",
   "nbconvert_exporter": "python",
   "pygments_lexer": "ipython3",
   "version": "3.7.4"
  }
 },
 "nbformat": 4,
 "nbformat_minor": 1
}
